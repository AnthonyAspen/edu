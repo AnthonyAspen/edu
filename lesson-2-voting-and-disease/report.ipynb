{
 "cells": [
  {
   "cell_type": "code",
   "execution_count": 24,
   "outputs": [],
   "source": [
    "import pandas as pd\n",
    "from sklearn.model_selection import train_test_split\n",
    "from sklearn.preprocessing import LabelEncoder\n",
    "from sklearn.impute import SimpleImputer\n",
    "from sklearn.metrics import accuracy_score, precision_score, recall_score, f1_score\n",
    "from sklearn.linear_model import LogisticRegression\n",
    "from sklearn.svm import SVC\n",
    "from sklearn.tree import DecisionTreeClassifier\n",
    "from sklearn.neighbors import KNeighborsClassifier\n",
    "\n",
    "# Загрузка данных\n",
    "congressional_data = pd.read_csv('datasets/congressional_voting_dataset.csv')\n",
    "heart_disease_data = pd.read_csv('datasets/heart_disease_dataset.csv')"
   ],
   "metadata": {
    "collapsed": false,
    "ExecuteTime": {
     "start_time": "2023-11-26T20:17:38.655954Z",
     "end_time": "2023-11-26T20:17:38.678445Z"
    }
   }
  },
  {
   "cell_type": "code",
   "execution_count": 25,
   "outputs": [
    {
     "name": "stdout",
     "output_type": "stream",
     "text": [
      "Congressional Voting Dataset:\n",
      "<class 'pandas.core.frame.DataFrame'>\n",
      "RangeIndex: 435 entries, 0 to 434\n",
      "Data columns (total 17 columns):\n",
      " #   Column                                  Non-Null Count  Dtype \n",
      "---  ------                                  --------------  ----- \n",
      " 0   handicapped_infants                     435 non-null    object\n",
      " 1   water_project_cost_sharing              435 non-null    object\n",
      " 2   adoption_of_the_budget_resolution       435 non-null    object\n",
      " 3   physician_fee_freeze                    435 non-null    object\n",
      " 4   el_salvador_aid                         435 non-null    object\n",
      " 5   religious_groups_in_schools             435 non-null    object\n",
      " 6   anti_satellite_test_ban                 435 non-null    object\n",
      " 7   aid_to_nicaraguan_contras               435 non-null    object\n",
      " 8   mx_missile                              435 non-null    object\n",
      " 9   immigration                             435 non-null    object\n",
      " 10  synfuels_corporation_cutback            435 non-null    object\n",
      " 11  education_spending                      435 non-null    object\n",
      " 12  superfund_right_to_sue                  435 non-null    object\n",
      " 13  crime                                   435 non-null    object\n",
      " 14  duty_free_exports                       435 non-null    object\n",
      " 15  export_administration_act_south_africa  435 non-null    object\n",
      " 16  political_party                         435 non-null    object\n",
      "dtypes: object(17)\n",
      "memory usage: 57.9+ KB\n",
      "None\n",
      "\n",
      "Heart Disease Dataset:\n",
      "<class 'pandas.core.frame.DataFrame'>\n",
      "RangeIndex: 303 entries, 0 to 302\n",
      "Data columns (total 14 columns):\n",
      " #   Column    Non-Null Count  Dtype  \n",
      "---  ------    --------------  -----  \n",
      " 0   age       303 non-null    int64  \n",
      " 1   sex       303 non-null    int64  \n",
      " 2   cp        303 non-null    int64  \n",
      " 3   trestbps  303 non-null    int64  \n",
      " 4   chol      303 non-null    int64  \n",
      " 5   fbs       303 non-null    int64  \n",
      " 6   restecg   303 non-null    int64  \n",
      " 7   thalach   303 non-null    int64  \n",
      " 8   exang     303 non-null    int64  \n",
      " 9   oldpeak   303 non-null    float64\n",
      " 10  slope     303 non-null    int64  \n",
      " 11  ca        303 non-null    int64  \n",
      " 12  thal      303 non-null    int64  \n",
      " 13  num       303 non-null    int64  \n",
      "dtypes: float64(1), int64(13)\n",
      "memory usage: 33.3 KB\n",
      "None\n"
     ]
    }
   ],
   "source": [
    "\n",
    "# Предварительный анализ данных\n",
    "print(\"Congressional Voting Dataset:\")\n",
    "print(congressional_data.info())\n",
    "print(\"\\nHeart Disease Dataset:\")\n",
    "print(heart_disease_data.info())"
   ],
   "metadata": {
    "collapsed": false,
    "ExecuteTime": {
     "start_time": "2023-11-26T20:17:38.686065Z",
     "end_time": "2023-11-26T20:17:38.705890Z"
    }
   }
  },
  {
   "cell_type": "code",
   "execution_count": 26,
   "outputs": [],
   "source": [
    "\n",
    "# Предобработка данных\n",
    "def preprocess_data(data):\n",
    "    # Замена строковых значений на числа для бинарных признаков\n",
    "    label_encoder = LabelEncoder()\n",
    "    for column in data.columns:\n",
    "        if data[column].dtype == 'object':\n",
    "            data[column] = label_encoder.fit_transform(data[column].astype(str))\n",
    "\n",
    "    # Заполнение пропущенных значений\n",
    "    imputer = SimpleImputer(strategy='most_frequent')\n",
    "    data_filled = pd.DataFrame(imputer.fit_transform(data), columns=data.columns)\n",
    "\n",
    "    return data_filled\n",
    "\n",
    "# Подготовка и предобработка данных\n",
    "congressional_data_processed = preprocess_data(congressional_data)\n",
    "heart_disease_data_processed = preprocess_data(heart_disease_data)\n"
   ],
   "metadata": {
    "collapsed": false,
    "ExecuteTime": {
     "start_time": "2023-11-26T20:17:38.722468Z",
     "end_time": "2023-11-26T20:17:38.757095Z"
    }
   }
  },
  {
   "cell_type": "code",
   "execution_count": 27,
   "outputs": [
    {
     "name": "stdout",
     "output_type": "stream",
     "text": [
      "\n",
      "Model: Logistic Regression\n",
      "Congressional Voting Dataset Metrics:\n",
      "Accuracy: 0.9655\n",
      "Precision: 1.0000\n",
      "Recall: 0.9032\n",
      "F1 Score: 0.9492\n",
      "\n",
      "Heart Disease Dataset Metrics:\n",
      "Accuracy: 0.8361\n",
      "Precision: 0.8929\n",
      "Recall: 0.7812\n",
      "F1 Score: 0.8333\n",
      "\n",
      "Model: Support Vector Machine\n",
      "Congressional Voting Dataset Metrics:\n",
      "Accuracy: 0.9425\n",
      "Precision: 0.9333\n",
      "Recall: 0.9032\n",
      "F1 Score: 0.9180\n",
      "\n",
      "Heart Disease Dataset Metrics:\n",
      "Accuracy: 0.4754\n",
      "Precision: 0.0000\n",
      "Recall: 0.0000\n",
      "F1 Score: 0.0000\n",
      "\n",
      "Model: Decision Tree\n",
      "Congressional Voting Dataset Metrics:\n",
      "Accuracy: 0.9310\n",
      "Precision: 0.9310\n",
      "Recall: 0.8710\n",
      "F1 Score: 0.9000\n",
      "\n",
      "Heart Disease Dataset Metrics:\n",
      "Accuracy: 0.7377\n",
      "Precision: 0.7857\n",
      "Recall: 0.6875\n",
      "F1 Score: 0.7333\n",
      "\n",
      "Model: k-Nearest Neighbors\n",
      "Congressional Voting Dataset Metrics:\n",
      "Accuracy: 0.9080\n",
      "Precision: 0.8710\n",
      "Recall: 0.8710\n",
      "F1 Score: 0.8710\n",
      "\n",
      "Heart Disease Dataset Metrics:\n",
      "Accuracy: 0.6721\n",
      "Precision: 0.7143\n",
      "Recall: 0.6250\n",
      "F1 Score: 0.6667\n"
     ]
    }
   ],
   "source": [
    "\n",
    "# Разделение данных на обучающую и тестовую выборки\n",
    "X_congressional = congressional_data_processed.drop('political_party', axis=1)\n",
    "y_congressional = congressional_data_processed['political_party']\n",
    "X_heart_disease = heart_disease_data_processed.drop('num', axis=1)\n",
    "y_heart_disease = heart_disease_data_processed['num']\n",
    "\n",
    "X_train_congressional, X_test_congressional, y_train_congressional, y_test_congressional = train_test_split(\n",
    "    X_congressional, y_congressional, test_size=0.2, random_state=42\n",
    ")\n",
    "X_train_heart_disease, X_test_heart_disease, y_train_heart_disease, y_test_heart_disease = train_test_split(\n",
    "    X_heart_disease, y_heart_disease, test_size=0.2, random_state=42\n",
    ")\n",
    "\n",
    "# Модели и их обучение\n",
    "models = {\n",
    "    \"Logistic Regression\": LogisticRegression(max_iter=1000),\n",
    "    \"Support Vector Machine\": SVC(),\n",
    "    \"Decision Tree\": DecisionTreeClassifier(),\n",
    "    \"k-Nearest Neighbors\": KNeighborsClassifier()\n",
    "}\n",
    "\n",
    "for model_name, model in models.items():\n",
    "    # Обучение модели на Congressional Voting Dataset\n",
    "    model.fit(X_train_congressional, y_train_congressional)\n",
    "    # Предсказание\n",
    "    y_pred_congressional = model.predict(X_test_congressional)\n",
    "    # Оценка метрик\n",
    "    accuracy_congressional = accuracy_score(y_test_congressional, y_pred_congressional)\n",
    "    precision_congressional = precision_score(y_test_congressional, y_pred_congressional,zero_division=0)\n",
    "    recall_congressional = recall_score(y_test_congressional, y_pred_congressional)\n",
    "    f1_congressional = f1_score(y_test_congressional, y_pred_congressional,zero_division=0)\n",
    "\n",
    "    # Обучение модели на Heart Disease Dataset\n",
    "    model.fit(X_train_heart_disease, y_train_heart_disease)\n",
    "    # Предсказание\n",
    "    y_pred_heart_disease = model.predict(X_test_heart_disease)\n",
    "    # Оценка метрик\n",
    "    accuracy_heart_disease = accuracy_score(y_test_heart_disease, y_pred_heart_disease)\n",
    "    precision_heart_disease = precision_score(y_test_heart_disease, y_pred_heart_disease,zero_division=0)\n",
    "    recall_heart_disease = recall_score(y_test_heart_disease, y_pred_heart_disease)\n",
    "    f1_heart_disease = f1_score(y_test_heart_disease, y_pred_heart_disease,zero_division=0)\n",
    "\n",
    "    # Вывод результатов\n",
    "    print(f\"\\nModel: {model_name}\")\n",
    "    print(\"Congressional Voting Dataset Metrics:\")\n",
    "    print(f\"Accuracy: {accuracy_congressional:.4f}\")\n",
    "    print(f\"Precision: {precision_congressional:.4f}\")\n",
    "    print(f\"Recall: {recall_congressional:.4f}\")\n",
    "    print(f\"F1 Score: {f1_congressional:.4f}\")\n",
    "\n",
    "    print(\"\\nHeart Disease Dataset Metrics:\")\n",
    "    print(f\"Accuracy: {accuracy_heart_disease:.4f}\")\n",
    "    print(f\"Precision: {precision_heart_disease:.4f}\")\n",
    "    print(f\"Recall: {recall_heart_disease:.4f}\")\n",
    "    print(f\"F1 Score: {f1_heart_disease:.4f}\")\n"
   ],
   "metadata": {
    "collapsed": false,
    "ExecuteTime": {
     "start_time": "2023-11-26T20:17:38.759762Z",
     "end_time": "2023-11-26T20:17:38.865805Z"
    }
   }
  },
  {
   "cell_type": "markdown",
   "source": [
    "**Congressional Voting Dataset:**\n",
    " - Логистическая Регрессия: Весьма высокие показатели метрик, что может свидетельствовать о хорошей обобщающей способности модели.\n",
    " - Метод Опорных Векторов (SVM): Также хорошие показатели, но слегка хуже, чем у логистической регрессии.\n",
    " - Деревья Принятия Решений: Хорошие результаты, но признаки как \"precision\" и \"recall\" несколько ниже,\n",
    "чем у логистической регрессии.\n",
    " - k-Nearest Neighbors (kNN): Показывает хорошие результаты, но сравнительно ниже, чем логистическая\n",
    "   регрессия.\n"
   ],
   "metadata": {
    "collapsed": false
   }
  },
  {
   "cell_type": "markdown",
   "source": [
    "**Heart Disease Dataset:**\n",
    "  - Логистическая Регрессия: Accuracy в порядке, но precision, recall и F1 Score немного ниже. Возможно, нужна дополнительная настройка модели.\n",
    "  - Метод Опорных Векторов (SVM): Показывает низкие результаты, что может говорить о том, что SVM может не быть оптимальным выбором для данного датасета.\n",
    "  - Деревья Принятия Решений: Показывает удовлетворительные результаты, но также имеет потенциал для улучшения.\n",
    "  - k-Nearest Neighbors (kNN): Accuracy ниже по сравнению с другими моделями. Требуется возможная настройка параметров."
   ],
   "metadata": {
    "collapsed": false
   }
  },
  {
   "cell_type": "markdown",
   "source": [
    "**Общие выводы:**\n",
    "        Логистическая Регрессия: В целом, логистическая регрессия предоставляет наилучшие результаты для обоих датасетов, обеспечивая хороший баланс между precision и recall.\n",
    "        Метод Опорных Векторов (SVM): Не оптимален для второго датасета.\n",
    "        Деревья Принятия Решений: Показывают удовлетворительные результаты, но могут требовать настройки гиперпараметров.\n",
    "        k-Nearest Neighbors (kNN): Показывают хорошие результаты, но также требуют настройки параметров."
   ],
   "metadata": {
    "collapsed": false
   }
  },
  {
   "cell_type": "markdown",
   "source": [],
   "metadata": {
    "collapsed": false
   }
  }
 ],
 "metadata": {
  "kernelspec": {
   "display_name": "Python 3",
   "language": "python",
   "name": "python3"
  },
  "language_info": {
   "codemirror_mode": {
    "name": "ipython",
    "version": 2
   },
   "file_extension": ".py",
   "mimetype": "text/x-python",
   "name": "python",
   "nbconvert_exporter": "python",
   "pygments_lexer": "ipython2",
   "version": "2.7.6"
  }
 },
 "nbformat": 4,
 "nbformat_minor": 0
}
